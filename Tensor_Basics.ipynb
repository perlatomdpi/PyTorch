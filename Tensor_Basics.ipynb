{
  "nbformat": 4,
  "nbformat_minor": 0,
  "metadata": {
    "colab": {
      "name": "Tensor-Basics.ipynb",
      "provenance": [],
      "collapsed_sections": [],
      "toc_visible": true,
      "authorship_tag": "ABX9TyNNRXOmKhQVrpTQmn2JjJER",
      "include_colab_link": true
    },
    "kernelspec": {
      "name": "python3",
      "display_name": "Python 3"
    }
  },
  "cells": [
    {
      "cell_type": "markdown",
      "metadata": {
        "id": "view-in-github",
        "colab_type": "text"
      },
      "source": [
        "<a href=\"https://colab.research.google.com/github/perlatomdpi/PyTorch/blob/main/Tensor_Basics.ipynb\" target=\"_parent\"><img src=\"https://colab.research.google.com/assets/colab-badge.svg\" alt=\"Open In Colab\"/></a>"
      ]
    },
    {
      "cell_type": "markdown",
      "metadata": {
        "id": "tgWmf73IwlYn"
      },
      "source": [
        "# Tensor Basics\n",
        "A tensor is a mathematical object that describes the relationship between other mathematical objects that are all linked together. <br>\n",
        "They are commonly shown as an array of numbers: <br>\n",
        "A vector is 1D tensor, and a matix is a 2D tensor. <br>\n",
        "More info about tensor cores at:<br>\n",
        "https://www.techspot.com/article/2049-what-are-tensor-cores/\n"
      ]
    },
    {
      "cell_type": "markdown",
      "metadata": {
        "id": "wDQijkxCxmeY"
      },
      "source": [
        "# Convert numpy array to a pytorch tensor"
      ]
    },
    {
      "cell_type": "code",
      "metadata": {
        "id": "X-p22Lbqwc_n"
      },
      "source": [
        "import torch\n",
        "import numpy as np\n",
        "torch.__version__"
      ],
      "execution_count": null,
      "outputs": []
    },
    {
      "cell_type": "code",
      "metadata": {
        "id": "sX1N6YpfzCby"
      },
      "source": [
        "# Create numpy array\n",
        "arr = np.array([1, 2, 3, 4, 5])\n",
        "# Check data type\n",
        "arr.dtype\n",
        "type(arr)"
      ],
      "execution_count": null,
      "outputs": []
    },
    {
      "cell_type": "code",
      "metadata": {
        "id": "wDMOTI76zoFt"
      },
      "source": [
        "# Convert array to a tensor method 1 specific foor numpy array\n",
        "x = torch.from_numpy(arr)\n",
        "type(x)"
      ],
      "execution_count": null,
      "outputs": []
    },
    {
      "cell_type": "code",
      "metadata": {
        "id": "UhOCwugB0Fsk"
      },
      "source": [
        "# Convert array to a tensor method 2 generalized method\n",
        "torch.as_tensor(arr)"
      ],
      "execution_count": null,
      "outputs": []
    },
    {
      "cell_type": "code",
      "metadata": {
        "id": "Sy6_8elG0ciq",
        "outputId": "b5d103cb-1761-4699-fa8b-c268f4df5552",
        "colab": {
          "base_uri": "https://localhost:8080/",
          "height": 85
        }
      },
      "source": [
        "# 2D numpy array\n",
        "arr2d = np.arange(0.0, 12.0)\n",
        "arr2d = arr2d.reshape(4, 3)\n",
        "arr2d"
      ],
      "execution_count": 10,
      "outputs": [
        {
          "output_type": "execute_result",
          "data": {
            "text/plain": [
              "array([[ 0.,  1.,  2.],\n",
              "       [ 3.,  4.,  5.],\n",
              "       [ 6.,  7.,  8.],\n",
              "       [ 9., 10., 11.]])"
            ]
          },
          "metadata": {
            "tags": []
          },
          "execution_count": 10
        }
      ]
    },
    {
      "cell_type": "code",
      "metadata": {
        "id": "3m-lkLoY05Lt",
        "outputId": "8649ec79-eb91-4097-fedf-fffeafce675f",
        "colab": {
          "base_uri": "https://localhost:8080/",
          "height": 85
        }
      },
      "source": [
        "# Convert 2D array to a tensor\n",
        "x2 = torch.from_numpy(arr2d)\n",
        "x2"
      ],
      "execution_count": 11,
      "outputs": [
        {
          "output_type": "execute_result",
          "data": {
            "text/plain": [
              "tensor([[ 0.,  1.,  2.],\n",
              "        [ 3.,  4.,  5.],\n",
              "        [ 6.,  7.,  8.],\n",
              "        [ 9., 10., 11.]], dtype=torch.float64)"
            ]
          },
          "metadata": {
            "tags": []
          },
          "execution_count": 11
        }
      ]
    },
    {
      "cell_type": "markdown",
      "metadata": {
        "id": "L1s1fS7H2dfg"
      },
      "source": [
        "# Create tensor from scratch"
      ]
    },
    {
      "cell_type": "code",
      "metadata": {
        "id": "8MZcR7qu1H9w",
        "outputId": "046e51f2-0415-4003-edf9-58e76e27b811",
        "colab": {
          "base_uri": "https://localhost:8080/",
          "height": 34
        }
      },
      "source": [
        "# Create numpy array\n",
        "new_arr = np.array([1, 2, 3])\n",
        "\n",
        "# Create float tensor\n",
        "torch.Tensor(new_arr)"
      ],
      "execution_count": 12,
      "outputs": [
        {
          "output_type": "execute_result",
          "data": {
            "text/plain": [
              "tensor([1., 2., 3.])"
            ]
          },
          "metadata": {
            "tags": []
          },
          "execution_count": 12
        }
      ]
    },
    {
      "cell_type": "code",
      "metadata": {
        "id": "O9Tpw6mx3FOB",
        "outputId": "49f8e648-dc09-4f64-f882-214188c5c272",
        "colab": {
          "base_uri": "https://localhost:8080/",
          "height": 68
        }
      },
      "source": [
        "# Arrange Tensor\n",
        "torch.arange(0, 18, 2).reshape(3, 3)"
      ],
      "execution_count": 14,
      "outputs": [
        {
          "output_type": "execute_result",
          "data": {
            "text/plain": [
              "tensor([[ 0,  2,  4],\n",
              "        [ 6,  8, 10],\n",
              "        [12, 14, 16]])"
            ]
          },
          "metadata": {
            "tags": []
          },
          "execution_count": 14
        }
      ]
    },
    {
      "cell_type": "code",
      "metadata": {
        "id": "5SmSrRT24WcQ",
        "outputId": "9955e4f2-2779-417a-9bc4-225bba4907b7",
        "colab": {
          "base_uri": "https://localhost:8080/",
          "height": 68
        }
      },
      "source": [
        "# Arrange Tensor linearly\n",
        "torch.linspace(0, 18, 12).reshape(3, 4)"
      ],
      "execution_count": 18,
      "outputs": [
        {
          "output_type": "execute_result",
          "data": {
            "text/plain": [
              "tensor([[ 0.0000,  1.6364,  3.2727,  4.9091],\n",
              "        [ 6.5455,  8.1818,  9.8182, 11.4545],\n",
              "        [13.0909, 14.7273, 16.3636, 18.0000]])"
            ]
          },
          "metadata": {
            "tags": []
          },
          "execution_count": 18
        }
      ]
    },
    {
      "cell_type": "code",
      "metadata": {
        "id": "Im5qGmgX5Sc7",
        "outputId": "54458084-63be-4cf4-8b25-8c81e2de3300",
        "colab": {
          "base_uri": "https://localhost:8080/",
          "height": 34
        }
      },
      "source": [
        "# Convert data type of a tensor\n",
        "my_tensor = torch.tensor([1, 2, 3])\n",
        "my_tensor.dtype"
      ],
      "execution_count": 19,
      "outputs": [
        {
          "output_type": "execute_result",
          "data": {
            "text/plain": [
              "torch.int64"
            ]
          },
          "metadata": {
            "tags": []
          },
          "execution_count": 19
        }
      ]
    },
    {
      "cell_type": "code",
      "metadata": {
        "id": "pI1hkZMv5fVq",
        "outputId": "5d5e1c57-76c2-4abf-a728-6520f7d9fb93",
        "colab": {
          "base_uri": "https://localhost:8080/",
          "height": 34
        }
      },
      "source": [
        "my_tensor = my_tensor.type(torch.int32)\n",
        "my_tensor.dtype"
      ],
      "execution_count": 20,
      "outputs": [
        {
          "output_type": "execute_result",
          "data": {
            "text/plain": [
              "torch.int32"
            ]
          },
          "metadata": {
            "tags": []
          },
          "execution_count": 20
        }
      ]
    },
    {
      "cell_type": "code",
      "metadata": {
        "id": "WxJSlh845n8u",
        "outputId": "b2ab0c8f-d760-4b0a-b615-ef6d5e7ede03",
        "colab": {
          "base_uri": "https://localhost:8080/",
          "height": 187
        }
      },
      "source": [
        "# Create a random tensor normal distributed\n",
        "# With mean=0 and sd=1\n",
        "torch.randn(5, 10) "
      ],
      "execution_count": 22,
      "outputs": [
        {
          "output_type": "execute_result",
          "data": {
            "text/plain": [
              "tensor([[-0.0381,  0.7299, -0.3097, -1.6117,  0.9652, -0.7952,  1.1607,  1.4216,\n",
              "          0.3530, -0.4795],\n",
              "        [ 0.3316, -1.2872,  0.1351,  0.1309,  0.1298,  0.5105, -0.7345, -1.0937,\n",
              "          1.4300,  0.6995],\n",
              "        [-0.1262,  0.7891,  0.8821,  0.2101, -2.6839, -1.0328, -0.8145,  0.6564,\n",
              "          0.1226,  1.9781],\n",
              "        [-0.1881, -0.5877,  0.9106,  0.9686,  0.0836, -0.5705, -0.5397,  1.1815,\n",
              "          0.0206, -0.9617],\n",
              "        [-1.1503, -1.7290,  0.5379,  0.4237, -0.4581, -0.8938,  1.9590,  0.2946,\n",
              "         -1.4603, -2.2947]])"
            ]
          },
          "metadata": {
            "tags": []
          },
          "execution_count": 22
        }
      ]
    },
    {
      "cell_type": "markdown",
      "metadata": {
        "id": "iQGoA-jd6lyE"
      },
      "source": [
        "# Tensor operations"
      ]
    },
    {
      "cell_type": "code",
      "metadata": {
        "id": "C_iAj73u6oli",
        "outputId": "7aedf8fc-32a8-4302-cf49-0830854b9057",
        "colab": {
          "base_uri": "https://localhost:8080/",
          "height": 68
        }
      },
      "source": [
        "# Get single value\n",
        "x  = torch.arange(6).reshape(3, 2)\n",
        "x"
      ],
      "execution_count": 24,
      "outputs": [
        {
          "output_type": "execute_result",
          "data": {
            "text/plain": [
              "tensor([[0, 1],\n",
              "        [2, 3],\n",
              "        [4, 5]])"
            ]
          },
          "metadata": {
            "tags": []
          },
          "execution_count": 24
        }
      ]
    },
    {
      "cell_type": "code",
      "metadata": {
        "id": "A6Z91TLZ694r",
        "outputId": "65dc3e94-36dd-4925-ea04-633ed1b1c8df",
        "colab": {
          "base_uri": "https://localhost:8080/",
          "height": 34
        }
      },
      "source": [
        "x[1,1]"
      ],
      "execution_count": 25,
      "outputs": [
        {
          "output_type": "execute_result",
          "data": {
            "text/plain": [
              "tensor(3)"
            ]
          },
          "metadata": {
            "tags": []
          },
          "execution_count": 25
        }
      ]
    },
    {
      "cell_type": "code",
      "metadata": {
        "id": "PjYyGn2N7VhC",
        "outputId": "fa8b5f18-ac05-432f-82b0-af84744c7b1a",
        "colab": {
          "base_uri": "https://localhost:8080/",
          "height": 68
        }
      },
      "source": [
        "# Get singluar column\n",
        "x[:,1:]"
      ],
      "execution_count": 26,
      "outputs": [
        {
          "output_type": "execute_result",
          "data": {
            "text/plain": [
              "tensor([[1],\n",
              "        [3],\n",
              "        [5]])"
            ]
          },
          "metadata": {
            "tags": []
          },
          "execution_count": 26
        }
      ]
    },
    {
      "cell_type": "code",
      "metadata": {
        "id": "tkvsvcPT70ox",
        "outputId": "cf1b521c-b35f-4327-814a-da4ba10c8f72",
        "colab": {
          "base_uri": "https://localhost:8080/",
          "height": 34
        }
      },
      "source": [
        "# Sum tensors element by element\n",
        "a  = torch.tensor([1.,2., 3.])\n",
        "b = torch.tensor([4., 4., 6.])\n",
        "a + b\n",
        "torch.add(a,b)"
      ],
      "execution_count": 30,
      "outputs": [
        {
          "output_type": "execute_result",
          "data": {
            "text/plain": [
              "tensor([5., 6., 9.])"
            ]
          },
          "metadata": {
            "tags": []
          },
          "execution_count": 30
        }
      ]
    },
    {
      "cell_type": "code",
      "metadata": {
        "id": "7qRlz6iL8_Hd",
        "outputId": "686b0062-f70f-43d0-ce1f-6e163200f9e5",
        "colab": {
          "base_uri": "https://localhost:8080/",
          "height": 34
        }
      },
      "source": [
        "# Multiplication tensors element by element\n",
        "a.mul(b)"
      ],
      "execution_count": 31,
      "outputs": [
        {
          "output_type": "execute_result",
          "data": {
            "text/plain": [
              "tensor([ 4.,  8., 18.])"
            ]
          },
          "metadata": {
            "tags": []
          },
          "execution_count": 31
        }
      ]
    },
    {
      "cell_type": "code",
      "metadata": {
        "id": "sTziptvo9xiI",
        "outputId": "77956f93-bd72-4bf9-8d01-b4139d41af3d",
        "colab": {
          "base_uri": "https://localhost:8080/",
          "height": 51
        }
      },
      "source": [
        "# Matrix multiplication\n",
        "a  = torch.tensor([[0, 2, 4], [1, 3, 5]])\n",
        "b  = torch.tensor([[0, 7], [8, 9], [10, 11]])\n",
        "a"
      ],
      "execution_count": 36,
      "outputs": [
        {
          "output_type": "execute_result",
          "data": {
            "text/plain": [
              "tensor([[0, 2, 4],\n",
              "        [1, 3, 5]])"
            ]
          },
          "metadata": {
            "tags": []
          },
          "execution_count": 36
        }
      ]
    },
    {
      "cell_type": "code",
      "metadata": {
        "id": "rffH9uZ_-ic5",
        "outputId": "f5fe2e60-7dcb-41aa-e6c1-5f2e51be0fb6",
        "colab": {
          "base_uri": "https://localhost:8080/",
          "height": 68
        }
      },
      "source": [
        "b"
      ],
      "execution_count": 35,
      "outputs": [
        {
          "output_type": "execute_result",
          "data": {
            "text/plain": [
              "tensor([[ 0,  7],\n",
              "        [ 8,  9],\n",
              "        [10, 11]])"
            ]
          },
          "metadata": {
            "tags": []
          },
          "execution_count": 35
        }
      ]
    },
    {
      "cell_type": "code",
      "metadata": {
        "id": "R2NKtrP2-n-w",
        "outputId": "1683a019-7f7d-408d-b804-42f878aea329",
        "colab": {
          "base_uri": "https://localhost:8080/",
          "height": 51
        }
      },
      "source": [
        "torch.mm(a, b)"
      ],
      "execution_count": 37,
      "outputs": [
        {
          "output_type": "execute_result",
          "data": {
            "text/plain": [
              "tensor([[56, 62],\n",
              "        [74, 89]])"
            ]
          },
          "metadata": {
            "tags": []
          },
          "execution_count": 37
        }
      ]
    },
    {
      "cell_type": "code",
      "metadata": {
        "id": "bx2oUF-q_Jjx",
        "outputId": "bffbda76-38ff-4276-f9b8-d9a27633ca8b",
        "colab": {
          "base_uri": "https://localhost:8080/",
          "height": 34
        }
      },
      "source": [
        "# L2 or Euclidian Normalization\n",
        "# It is the magnitude of the vector\n",
        "x  = torch.tensor([1., 2., 3., 4., 5.])\n",
        "x.norm()"
      ],
      "execution_count": 40,
      "outputs": [
        {
          "output_type": "execute_result",
          "data": {
            "text/plain": [
              "tensor(7.4162)"
            ]
          },
          "metadata": {
            "tags": []
          },
          "execution_count": 40
        }
      ]
    },
    {
      "cell_type": "code",
      "metadata": {
        "id": "7lDCU3N3_sgI",
        "outputId": "294e5918-bd42-4208-94bb-c44934a8d66c",
        "colab": {
          "base_uri": "https://localhost:8080/",
          "height": 34
        }
      },
      "source": [
        "# Give number of elements in a tensor\n",
        "x.numel()\n",
        "len(x)"
      ],
      "execution_count": 42,
      "outputs": [
        {
          "output_type": "execute_result",
          "data": {
            "text/plain": [
              "5"
            ]
          },
          "metadata": {
            "tags": []
          },
          "execution_count": 42
        }
      ]
    },
    {
      "cell_type": "code",
      "metadata": {
        "id": "IDrWux_HAA2N",
        "outputId": "071f6664-e108-4e7c-f7a3-766e6a296f77",
        "colab": {
          "base_uri": "https://localhost:8080/",
          "height": 51
        }
      },
      "source": [
        "# Give number of elements in a multidimentional tensor\n",
        "a"
      ],
      "execution_count": 43,
      "outputs": [
        {
          "output_type": "execute_result",
          "data": {
            "text/plain": [
              "tensor([[0, 2, 4],\n",
              "        [1, 3, 5]])"
            ]
          },
          "metadata": {
            "tags": []
          },
          "execution_count": 43
        }
      ]
    },
    {
      "cell_type": "code",
      "metadata": {
        "id": "uZ71vFQDAKNn",
        "outputId": "5d61fbc8-0fe4-42c4-9993-6f43f71e4276",
        "colab": {
          "base_uri": "https://localhost:8080/",
          "height": 34
        }
      },
      "source": [
        "a.numel()"
      ],
      "execution_count": 44,
      "outputs": [
        {
          "output_type": "execute_result",
          "data": {
            "text/plain": [
              "6"
            ]
          },
          "metadata": {
            "tags": []
          },
          "execution_count": 44
        }
      ]
    }
  ]
}