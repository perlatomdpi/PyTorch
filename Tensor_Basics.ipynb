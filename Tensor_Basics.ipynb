{
  "nbformat": 4,
  "nbformat_minor": 0,
  "metadata": {
    "colab": {
      "name": "Tensor-Basics.ipynb",
      "provenance": [],
      "collapsed_sections": [],
      "toc_visible": true,
      "authorship_tag": "ABX9TyM0AXYrKmVvPYS2+eCtf/2Y",
      "include_colab_link": true
    },
    "kernelspec": {
      "name": "python3",
      "display_name": "Python 3"
    }
  },
  "cells": [
    {
      "cell_type": "markdown",
      "metadata": {
        "id": "view-in-github",
        "colab_type": "text"
      },
      "source": [
        "<a href=\"https://colab.research.google.com/github/perlatomdpi/PyTorch/blob/main/Tensor_Basics.ipynb\" target=\"_parent\"><img src=\"https://colab.research.google.com/assets/colab-badge.svg\" alt=\"Open In Colab\"/></a>"
      ]
    },
    {
      "cell_type": "markdown",
      "metadata": {
        "id": "tgWmf73IwlYn"
      },
      "source": [
        "# Tensor \n",
        "A tensor is a mathematical object that describes the relationship between other mathematical objects that are all linked together. <br>\n",
        "They are commonly shown as an array of numbers: <br>\n",
        "A vector is 1D tensor, and a matix is a 2D tensor. <br>\n",
        "More info about tensor cores at:<br>\n",
        "https://www.techspot.com/article/2049-what-are-tensor-cores/\n"
      ]
    },
    {
      "cell_type": "markdown",
      "metadata": {
        "id": "wDQijkxCxmeY"
      },
      "source": [
        "# Convert numpy array to a pytorch tensor"
      ]
    },
    {
      "cell_type": "code",
      "metadata": {
        "id": "X-p22Lbqwc_n"
      },
      "source": [
        "import torch\n",
        "import numpy as np\n",
        "torch.__version__"
      ],
      "execution_count": null,
      "outputs": []
    },
    {
      "cell_type": "code",
      "metadata": {
        "id": "sX1N6YpfzCby"
      },
      "source": [
        "# Create numpy array\n",
        "arr = np.array([1, 2, 3, 4, 5])\n",
        "# Check data type\n",
        "arr.dtype\n",
        "type(arr)"
      ],
      "execution_count": null,
      "outputs": []
    },
    {
      "cell_type": "code",
      "metadata": {
        "id": "wDMOTI76zoFt"
      },
      "source": [
        "# Convert array to a tensor method 1 specific foor numpy array\n",
        "x = torch.from_numpy(arr)\n",
        "type(x)"
      ],
      "execution_count": null,
      "outputs": []
    },
    {
      "cell_type": "code",
      "metadata": {
        "id": "UhOCwugB0Fsk"
      },
      "source": [
        "# Convert array to a tensor method 2 generalized method\n",
        "torch.as_tensor(arr)"
      ],
      "execution_count": null,
      "outputs": []
    },
    {
      "cell_type": "code",
      "metadata": {
        "id": "Sy6_8elG0ciq",
        "outputId": "b5d103cb-1761-4699-fa8b-c268f4df5552",
        "colab": {
          "base_uri": "https://localhost:8080/",
          "height": 85
        }
      },
      "source": [
        "# 2D numpy array\n",
        "arr2d = np.arange(0.0, 12.0)\n",
        "arr2d = arr2d.reshape(4, 3)\n",
        "arr2d"
      ],
      "execution_count": 10,
      "outputs": [
        {
          "output_type": "execute_result",
          "data": {
            "text/plain": [
              "array([[ 0.,  1.,  2.],\n",
              "       [ 3.,  4.,  5.],\n",
              "       [ 6.,  7.,  8.],\n",
              "       [ 9., 10., 11.]])"
            ]
          },
          "metadata": {
            "tags": []
          },
          "execution_count": 10
        }
      ]
    },
    {
      "cell_type": "code",
      "metadata": {
        "id": "3m-lkLoY05Lt",
        "outputId": "8649ec79-eb91-4097-fedf-fffeafce675f",
        "colab": {
          "base_uri": "https://localhost:8080/",
          "height": 85
        }
      },
      "source": [
        "# Convert 2D array to a tensor\n",
        "x2 = torch.from_numpy(arr2d)\n",
        "x2"
      ],
      "execution_count": 11,
      "outputs": [
        {
          "output_type": "execute_result",
          "data": {
            "text/plain": [
              "tensor([[ 0.,  1.,  2.],\n",
              "        [ 3.,  4.,  5.],\n",
              "        [ 6.,  7.,  8.],\n",
              "        [ 9., 10., 11.]], dtype=torch.float64)"
            ]
          },
          "metadata": {
            "tags": []
          },
          "execution_count": 11
        }
      ]
    },
    {
      "cell_type": "code",
      "metadata": {
        "id": "8MZcR7qu1H9w"
      },
      "source": [
        ""
      ],
      "execution_count": null,
      "outputs": []
    }
  ]
}